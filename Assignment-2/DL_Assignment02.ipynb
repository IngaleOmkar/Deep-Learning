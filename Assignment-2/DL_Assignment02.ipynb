{
  "cells": [
    {
      "cell_type": "markdown",
      "metadata": {
        "id": "9jiIATcpFsPc"
      },
      "source": [
        "### Group Members:\n",
        "\n",
        "- Omkar Ingale, 24-716-466\n",
        "- Mohammad Mahdi Hejazi, 24-748-998\n",
        "- Arjun Roy, 22-742-423"
      ]
    },
    {
      "cell_type": "markdown",
      "metadata": {
        "id": "FcStVd7x1zL3"
      },
      "source": [
        "# Assignment 2: Binary and Categorical Classification\n",
        "\n",
        "For this assignment, we will use a similar two-layer network as Assignment 1 to implement binary and categorical classification using only `NumPy` package, without relying on `PyTorch` or any deep learning libraries.\n",
        "\n",
        "We will implement Binary Cross Entropy Loss and Categorical Cross Entropy Loss and their gradient manually with efficient matrix computation, and evaluate accuracy for two classification tasks.  \n"
      ]
    },
    {
      "cell_type": "markdown",
      "metadata": {
        "id": "sIA1V8sU2W2W"
      },
      "source": [
        "## Theoretical Questions\n",
        "\n",
        "We will build and train a two-layer network similar to Assignment 1.\n",
        "Besides, we will apply **Logistic Function** ($\\sigma$) on the logits for binary classification and **Stable Softmax Function** ($\\tilde{\\mathcal S}$) on the logits for categorical classification.\n",
        "\n",
        "Questions in this section concern:\n",
        "\n",
        "1. Comparison between normal softmax $\\mathcal S$ and stable softmax $\\tilde{\\mathcal S}$\n",
        "2. Compute derivative of $\\tilde{\\mathcal S}$ that should be applied in the coding section\n",
        "3. Weight/Parameter Initialization\n",
        "4. Discussion on Evaluation Metrics of classification tasks"
      ]
    },
    {
      "cell_type": "markdown",
      "metadata": {
        "id": "DmECZG_U39zs"
      },
      "source": [
        "### Task 1.1 Proof of Stable Softmax\n",
        "\n",
        "The softmax function is defined as:\n",
        "\n",
        "$$\n",
        "\\mathcal S(z_o) = \\frac{e^{z_o}}{\\sum\\limits_{o'} e^{z_{o'}}}\n",
        "$$\n",
        "\n",
        "However, when $ z_o $ has large values, the exponential $ e^{z_o} $ may grow too large, leading to numerical instability (e.g., overflow issues).\n",
        "To improve stability, we introduce the **stable softmax**:\n",
        "\n",
        "$$\n",
        "\\tilde{\\mathcal S}(z_o) = \\frac{e^{z_o - z_{\\max}}}{\\sum\\limits_{o'} e^{z_{o'} - z_{\\max}}}\n",
        "$$\n",
        "\n",
        "where $z_{\\max} = \\max\\limits_o z_o$.\n",
        "\n",
        "Prove that stable softmax is mathematically equivalent to the original softmax function.\n",
        "\n",
        "Discuss how stable softmax improves numerical stability, for instance, what will happen when $z_o$ is too large, or too small?"
      ]
    },
    {
      "cell_type": "markdown",
      "metadata": {
        "id": "gElE0oDt4nTW"
      },
      "source": [
        "Answer: ..."
      ]
    },
    {
      "cell_type": "markdown",
      "metadata": {
        "id": "dF71qySq1qhn"
      },
      "source": [
        "### Task 1.2 Derivative of Stable Softmax\n",
        "\n",
        "\n",
        "Recall that in the lecture slides, when we compute gradient with respect to $w^{(1)}$ and $w^{(2)}$, as part of the chain rule, we replace $\\frac{\\partial\\mathcal J^{[n]}}{\\partial\\mathcal y_o^{[n]}}\\frac{\\partial\\mathcal y_o^{[n]}}{\\partial\\mathcal z_o^{[n]}}$ by $\\frac{\\partial\\mathcal J^{[n]}}{\\partial\\mathcal z_o^{[n]}}$ when we choose a good activation function.\n",
        "\n",
        "When normal softmax is applied, we have $\\frac{\\partial\\mathcal J^{[n]}}{\\partial\\mathcal z_o^{[n]}} = y_o^{[n]} - t_o^{[n]}$. Prove that $\\frac{\\partial\\mathcal J^{[n]}}{\\partial\\mathcal z_o^{[n]}}$ will return the same format when the activation function is stable softmax.\n",
        "\n"
      ]
    },
    {
      "cell_type": "markdown",
      "metadata": {
        "id": "bUlc_2ta5bF1"
      },
      "source": [
        "Answer: ..."
      ]
    },
    {
      "cell_type": "markdown",
      "metadata": {
        "id": "O-QbnR__zCJB"
      },
      "source": [
        "### Task 1.3 Weight Initialization\n",
        "\n",
        "Why do we need to randomly initialize the weights before training starts?\n",
        "\n",
        "1. Proof that a network with constantly initialized weights perform like a network with one hidden unit.\n",
        "2. Show that gradient decent is not able to change this behavior and will keep all neurons in the hidden layer identical throughout training."
      ]
    },
    {
      "cell_type": "markdown",
      "metadata": {
        "id": "2cD9ZVUoznUE"
      },
      "source": [
        "Answer: ..."
      ]
    },
    {
      "cell_type": "markdown",
      "metadata": {
        "id": "uBmFHEbvNoT7"
      },
      "source": [
        "### Task 1.4 Evaluation Metrics\n",
        "\n",
        "If a binary classifier achieves an accuracy greater than 90%, see example plot in the OLAT, does this always indicate good performance? Might high accuracy in this binary classification be misleading?\n",
        "\n",
        "What alternative evaluation approaches could better capture model performance in such scenarios?\n",
        "\n"
      ]
    },
    {
      "cell_type": "markdown",
      "metadata": {
        "id": "DRDxQW4xy2E3"
      },
      "source": [
        "Answer: ..."
      ]
    },
    {
      "cell_type": "markdown",
      "metadata": {
        "id": "hi5N_hI79qkF"
      },
      "source": [
        "## Coding\n",
        "\n",
        "**<font color='red' size='5'>This section has to be submitted by 11:59 p.m. on Wednesday, March 26, to be graded.</font>**"
      ]
    },
    {
      "cell_type": "markdown",
      "metadata": {
        "id": "E-n2m59B4iP8"
      },
      "source": [
        "### Dataset\n",
        "\n",
        "We will use two different datasets, the *churn* dataset https://archive.ics.uci.edu/dataset/563/iranian+churn+dataset for a binary classification and the *winequality-red* dataset https://archive.ics.uci.edu/dataset/186/wine+quality for a categorical classification. Both datasets are available on the UCI Machine Learning repository.\n",
        "\n",
        "The binary classification dataset contains features extracted from customers of a telecommunication company, which are classified as either churn or not.\n",
        "The categorical classification dataset contains chemical measurements for seven distinct qualities of a Portuguese white wine.\n",
        "In the former dataset, the class is indicated in the final column named \"Churn\", whereas for the latter, target information is provided in the last column named \"quality.\"\n",
        "\n",
        "Please run the code block below to download the data files."
      ]
    },
    {
      "cell_type": "code",
      "execution_count": 1,
      "metadata": {
        "colab": {
          "base_uri": "https://localhost:8080/"
        },
        "id": "5Shd71QB4iP_",
        "outputId": "c84de0ac-30bd-48a4-98cd-8a0ec6036ef5"
      },
      "outputs": [
        {
          "name": "stdout",
          "output_type": "stream",
          "text": [
            "File 'churn_data.zip' already exists. Skipping download.\n",
            "File 'churn_data.csv' already extracted. Skipping extraction.\n",
            "File 'winequality-red.csv' already exists. Skipping download.\n"
          ]
        }
      ],
      "source": [
        "import os\n",
        "import zipfile\n",
        "import urllib.request\n",
        "\n",
        "# Download the two dataset files\n",
        "dataset_files = {\n",
        "    \"churn_data.zip\": \"https://archive.ics.uci.edu/static/public/563/iranian+churn+dataset.zip\",\n",
        "    \"winequality-red.csv\": \"https://archive.ics.uci.edu/ml/machine-learning-databases/wine-quality/winequality-red.csv\"\n",
        "}\n",
        "\n",
        "for name, url in dataset_files.items():\n",
        "    base, extension = os.path.splitext(name)  # Get file name without extension\n",
        "\n",
        "    if os.path.exists(name):\n",
        "        print(f\"File '{name}' already exists. Skipping download.\")\n",
        "    else:\n",
        "        # Download the file\n",
        "        urllib.request.urlretrieve(url, name)\n",
        "        print(f\"Downloaded {name} successfully.\")\n",
        "\n",
        "    # Check if it's a zip file and if it has been extracted\n",
        "    if extension == \".zip\":\n",
        "        extracted_file = os.path.join(base + \".csv\")  # Expected extracted file name\n",
        "\n",
        "        if not os.path.exists(extracted_file):\n",
        "            with zipfile.ZipFile(name, 'r') as zip_ref:\n",
        "                zip_ref.extractall()\n",
        "            print(f\"Extracted {name} successfully.\")\n",
        "\n",
        "            # Rename the extracted file\n",
        "            os.rename(\"Customer Churn.csv\", extracted_file)\n",
        "        else:\n",
        "            print(f\"File '{extracted_file}' already extracted. Skipping extraction.\")\n"
      ]
    },
    {
      "cell_type": "markdown",
      "metadata": {
        "id": "ySwkAKSM4iQA"
      },
      "source": [
        "#### Task 2.1: Dataset Loading\n",
        "\n",
        "The first task deals with the loading of the datasets.\n",
        "When training networks in `NumPy`, all data needs to be stored as NumPy arrays.\n",
        "The data should be split between input matrix $\\mathbf X \\in \\mathbb R^{D\\times N}$ and target matrix $\\mathbf T \\in \\mathbb R^{O\\times N}$.\n",
        "We need to **add a bias neuron to the input** so that we have $\\mathbf X \\in \\mathbb R^{(D+1)\\times N}$\n",
        "\n",
        "\n",
        "<!-- For the targets, we have to be more careful as there are differences w.r.t. the applied loss function.\n",
        "\n",
        "*   For binary classification, we need $\\mathbf T \\in \\mathbb R^{1\\times N}$.\n",
        "*   For categorical classification, we only need the class indexes $\\vec t = [t^{[1]}, \\ldots, t^{[N]}]$ to be in dimension $\\mathbb N^N$. -->\n",
        "\n",
        "\n",
        "Implement a function that returns both the input and the target data for a given dataset.\n",
        "\n",
        "Note:\n",
        "\n",
        "1. You can use `csv.reader()` to read the dataset, or rely on other methods such as `pandas`\n",
        "2. Please note that in the wine dataset CSV file, all values are separated by `;`, whereas in the churn dataset, they are separated by `,`\n",
        "3. For the wine dataset, convert 6 target values into a one-hot matrix so that the dimension is $\\mathbb R^{6\\times N}$. **Be aware that the target values in the wine dataset do not start at index 0.**"
      ]
    },
    {
      "cell_type": "code",
      "execution_count": 2,
      "metadata": {
        "id": "mnlXaDVVDMd2"
      },
      "outputs": [],
      "source": [
        "import numpy\n",
        "import csv\n",
        "\n",
        "def dataset(dataset_file=\"winequality-red.csv\", delimiter=\";\"):\n",
        "  # Read dataset\n",
        "  data = []\n",
        "  with open(dataset_file, 'r') as f:\n",
        "      reader = csv.reader(f, delimiter=delimiter)\n",
        "      headers = next(reader)  # Skip header row\n",
        "      for row in reader:\n",
        "          data.append([float(x) for x in row])\n",
        "  \n",
        "  print(f\"Loaded dataset with {len(data)} samples\")\n",
        "\n",
        "  # Convert to NumPy array\n",
        "  data_array = numpy.array(data, dtype=numpy.float64).T  # Transpose to (features × samples)\n",
        "\n",
        "  # Get the input (all columns except last)\n",
        "  X = data_array[:-1, :]\n",
        "  \n",
        "  # Insert bias neuron (add a row of ones at the top)\n",
        "  X = numpy.vstack([numpy.ones(X.shape[1]), X])  # Now shape (D+1, N)\n",
        "\n",
        "  if dataset_file == \"winequality-red.csv\":\n",
        "      # For wine dataset: convert quality labels (3-8) to one-hot (6 classes)\n",
        "      quality_labels = data_array[-1, :].astype(int) - 3  # Convert to 0-5 range\n",
        "      num_classes = 6\n",
        "      T = numpy.eye(num_classes)[quality_labels].T  # One-hot encoding, shape (6, N)\n",
        "  else:\n",
        "      # For churn dataset: keep binary target as is (shape (1, N))\n",
        "      T = data_array[-1:, :]  # Shape (1, N)\n",
        "\n",
        "  return X, T"
      ]
    },
    {
      "cell_type": "markdown",
      "metadata": {
        "id": "15Su4txz4iQB"
      },
      "source": [
        "#### Test 1: Assert Valid Outputs\n",
        "\n",
        "\n",
        "1. For the churn data, we assure that all dimensions are correct and that class labels are in $\\{0, 1\\}$.\n",
        "\n",
        "2. For the wine dataset, we make sure that the dataset is in the correct dimensions, i.e., $\\mathbf X\\in \\mathbb R^{(D+1)\\times N}$ and $\\mathbf T \\in \\mathbb N^{O\\times N}$. We verify that each sample in $\\mathbf T$ has exactly one active class (one-hot encoding)."
      ]
    },
    {
      "cell_type": "code",
      "execution_count": 3,
      "metadata": {
        "colab": {
          "base_uri": "https://localhost:8080/"
        },
        "id": "5JsZT_cmTgBA",
        "outputId": "608efddd-199f-4988-e685-5f3796c6eee4"
      },
      "outputs": [
        {
          "name": "stdout",
          "output_type": "stream",
          "text": [
            "Loaded dataset with 3150 samples\n",
            "Loaded dataset with 1599 samples\n"
          ]
        }
      ],
      "source": [
        "# Load datasets using the dataset function\n",
        "X, T = dataset(\"churn_data.csv\", \",\")\n",
        "\n",
        "# Assert checks for the churn dataset\n",
        "assert X.shape[0] == 14, X.shape[0]\n",
        "assert T.shape[0] == 1, T.shape[0]\n",
        "assert numpy.all(T >= 0) and numpy.all(T <= 1)\n",
        "assert T.dtype == numpy.float64\n",
        "\n",
        "# Load wine dataset\n",
        "X, T = dataset(\"winequality-red.csv\", \";\")\n",
        "\n",
        "# Assert checks for the winequality-red dataset\n",
        "assert X.shape[0] == 12, X.shape[0]\n",
        "assert T.shape[0] == 6, T.shape[0]\n",
        "# assert numpy.all(T >= 0) and numpy.all(T <= 1)\n",
        "assert numpy.all(numpy.sum(T, axis=0) == 1), \"Error: Some samples are not correctly one-hot encoded!\" # ensures that each column sums to exactly 1\n",
        "assert T.dtype == numpy.float64"
      ]
    },
    {
      "cell_type": "markdown",
      "metadata": {
        "id": "bSHMBMNN4iQB"
      },
      "source": [
        "#### Task 2.2: Split Training and Validation Data\n",
        "\n",
        "\n",
        "The data should be split into 80% for training and 20% for validation. Implement a function that takes the full dataset $(X,T)$ and returns $(X_t, T_t, X_v, T_v)$ accordingly.\n",
        "\n",
        "Write a function that splits off training and validation samples from a given dataset. **What do we need to assure before splitting?**\n"
      ]
    },
    {
      "cell_type": "code",
      "execution_count": 4,
      "metadata": {
        "id": "9bhG1l6CD4gm"
      },
      "outputs": [],
      "source": [
        "def split_training_data(X, T, train_percentage=0.8):\n",
        "    N = X.shape[1]  # Total number of samples\n",
        "    \n",
        "    # Shuffle the data before splitting\n",
        "    shuffled_indices = numpy.random.permutation(N)\n",
        "    X_shuffled = X[:, shuffled_indices]\n",
        "    T_shuffled = T[:, shuffled_indices]\n",
        "    \n",
        "    # Calculate split index\n",
        "    split_idx = int(train_percentage * N)\n",
        "    \n",
        "    # split into 80/20 training/validation\n",
        "    X_train = X_shuffled[:, :split_idx]\n",
        "    T_train = T_shuffled[:, :split_idx]\n",
        "    X_val = X_shuffled[:, split_idx:]\n",
        "    T_val = T_shuffled[:, split_idx:]\n",
        "    \n",
        "    return X_train, T_train, X_val, T_val"
      ]
    },
    {
      "cell_type": "markdown",
      "metadata": {
        "id": "Sk6_LL4X4iQC"
      },
      "source": [
        "#### Task 2.3: Input Data Normalization\n",
        "\n",
        "\n",
        "Since the data is in different input regimes, we want to normalize the data.\n",
        "\n",
        "Implement a function that normalizes all input data using the whitening method with given mean and standard deviation.\n",
        "$$X_{norm} = \\frac{X-\\mu}{\\sigma}$$\n",
        "Compute the mean ($\\mu$) and the standard deviation ($\\sigma$) for your dataset.\n",
        "Make sure that you handle the bias neuron $x_0$ correctly.\n",
        "Finally, normalize your input data using the implemented function.\n",
        "\n",
        "Note: Use `numpy.mean()` and `numpy.std()` with the correct dimensions."
      ]
    },
    {
      "cell_type": "code",
      "execution_count": 5,
      "metadata": {
        "id": "Eizcv6sqjpP0"
      },
      "outputs": [],
      "source": [
        "def normalize(X_train, X_val):\n",
        "    # Compute statistics \n",
        "    mean = numpy.mean(X_train[1:, :], axis=1, keepdims=True)\n",
        "    std = numpy.std(X_train[1:, :], axis=1, keepdims=True)\n",
        "    \n",
        "    # Avoid division by zero for constant features\n",
        "    std[std == 0] = 1.0\n",
        "    \n",
        "    # Standardize both X_train and X_val\n",
        "    X_train_norm = X_train.copy()\n",
        "    X_val_norm = X_val.copy()\n",
        "    \n",
        "    # Apply normalization (skip bias term)\n",
        "    X_train_norm[1:, :] = (X_train[1:, :] - mean) / std\n",
        "    X_val_norm[1:, :] = (X_val[1:, :] - mean) / std\n",
        "    \n",
        "    return X_train_norm, X_val_norm\n"
      ]
    },
    {
      "cell_type": "markdown",
      "metadata": {
        "id": "9cTqq3UnknyP"
      },
      "source": [
        "### Gradient Descent\n",
        "\n",
        "To train a two-layer multi-output regression network, we need to implement some functions.\n",
        "The network output is computed in three steps:\n",
        "\n",
        "  * Compute network activation for a batch of inputs $\\mathbf X$: $\\mathbf A = \\mathbf W^{(1)}\\mathbf X$\n",
        "  * Call the activation function element-wise: $\\mathbf H = g(\\mathbf A)$. Here, we rely on the $\\tanh$ function. Assure that the hidden neuron bias $\\mathbf H_{0,:}$ is set appropriately.\n",
        "  * Compute the logits $\\mathbf Z$ of the batch: $\\mathbf Z = \\mathbf W^{(2)}\\mathbf H$."
      ]
    },
    {
      "cell_type": "markdown",
      "metadata": {
        "id": "Sl3UYyPmXy_2"
      },
      "source": [
        "#### Task 2.4: Activation of Output\n",
        "\n",
        "In this task, we will implement the activation functions used in binary and categorical classification:  \n",
        "\n",
        "1. Logistic Function (for Binary Classification)  \n",
        "   $$\n",
        "   \\sigma(z) = \\frac{1}{1 + e^{-z}}\n",
        "   $$\n",
        "\n",
        "2. Stable Softmax Function (for Categorical Classification)\n",
        "  $$\n",
        "   \\tilde{\\mathcal S}(z_o) = \\frac{e^{z_o - z_{max}}}{\\sum\\limits_{o'} e^{z_{o'} - z_{max}}}\n",
        "   $$"
      ]
    },
    {
      "cell_type": "code",
      "execution_count": 6,
      "metadata": {
        "id": "jpcuXTBKg115"
      },
      "outputs": [],
      "source": [
        "def logistic_function(z):\n",
        "    return 1 / (1 + numpy.exp(-z))\n",
        "\n",
        "def stable_softmax(z):\n",
        "    # Subtract the max value for numerical stability\n",
        "    z_max = numpy.max(z, axis=-1, keepdims=True)\n",
        "    exp_values = numpy.exp(z - z_max)  # Apply the exponentiation\n",
        "    return exp_values / numpy.sum(exp_values, axis=-1, keepdims=True)  # Normalize to get the softmax output"
      ]
    },
    {
      "cell_type": "markdown",
      "metadata": {
        "id": "KMz-nSri4iQC"
      },
      "source": [
        "#### Task 2.5: Network Implementation\n",
        "\n",
        "Implement a multi-target network that computes the output matrix $\\mathbf Y$ for a given input dataset $\\mathbf X$ and given parameters $\\Theta=(\\mathbf W^{(1)}, \\mathbf W^{(2)})$ using `numpy` operations. Use $\\tanh$ as activation function between two layers.\n",
        "\n",
        "The function should return both the output $\\mathbf Y$ and the output of the hidden units $\\mathbf H$ since we will need these in gradient descent.\n",
        "When applying binary cross entropy loss, we apply the logistic function $\\sigma$ to the logits $\\mathbf Z$ before returning it.\n",
        "When applying categorical cross entropy loss, we apply stable softmax $\\tilde{\\mathcal S}$ to the logits $\\mathbf Z$ before returning it."
      ]
    },
    {
      "cell_type": "code",
      "execution_count": 7,
      "metadata": {
        "id": "6H8ZV4Qcly95"
      },
      "outputs": [],
      "source": [
        "def Network(X, Theta, loss_type='bce'):\n",
        "    W1, W2 = Theta\n",
        "    \n",
        "    # Compute activation (first layer)\n",
        "    A = W1 @ X  # Shape (K, N)\n",
        "    \n",
        "    # Compute hidden unit output with tanh activation\n",
        "    H = numpy.tanh(A)  # Shape (K, N)\n",
        "    \n",
        "    # Add bias neuron to hidden layer (row of ones at top)\n",
        "    H = numpy.vstack([numpy.ones(H.shape[1]), H])  # Shape (K+1, N)\n",
        "    \n",
        "    # Compute logits (second layer)\n",
        "    Z = W2 @ H  # Shape (O, N)\n",
        "    \n",
        "    # Apply appropriate output activation\n",
        "    if loss_type == 'bce':\n",
        "        # Binary classification: logistic function\n",
        "        Y = 1 / (1 + numpy.exp(-Z))  # Shape (1, N)\n",
        "    else:\n",
        "        # Categorical classification: stable softmax\n",
        "        z_max = numpy.max(Z, axis=0, keepdims=True)\n",
        "        exp_z = numpy.exp(Z - z_max)\n",
        "        Y = exp_z / numpy.sum(exp_z, axis=0, keepdims=True)  # Shape (O, N)\n",
        "    \n",
        "    return Y, H"
      ]
    },
    {
      "cell_type": "markdown",
      "metadata": {
        "id": "Zt0CMab4_Dr5"
      },
      "source": [
        "#### Task 2.6: Loss Implementation\n",
        "\n",
        "Implement a loss function that returns the Binary Cross-Entropy (BCE) loss for binary classification and the Categorical Cross-Entropy (CCE) loss for categorical classification.\n",
        "Note that for BCE, $O=1$ so that both $\\mathbf Y\\in\\mathbb R^{O\\times N}$ and $\\mathbf T\\in\\mathbb N^{O\\times N}$ are considered as vectors.\n",
        "\n",
        "$$\n",
        "\\mathcal J^{\\mathrm{BCE}} = -\\frac{1}{N} \\left[ \\mathbf T \\odot \\log \\mathbf Y + (1 - \\mathbf T) \\odot \\log (1 - \\mathbf Y) \\right] \\vec{\\mathbf 1}_N\n",
        "$$\n",
        "\n",
        "$$\n",
        "\\mathcal J^{\\mathrm{CCE}} = -\\frac{1}{N} \\vec{\\mathbf 1}_O^T [\\mathbf T \\odot \\log \\mathbf Y] \\vec{\\mathbf 1}_N\n",
        "$$\n",
        "\n",
        "where $\\odot$ represents the element-wise multiplication, and $\\vec{\\mathbf 1}_N$ a vector containing $N$ ones.\n",
        "For both losses, the mathematical expressions above can be implemented much easier, by using basic `numpy` or `scipy` functionality."
      ]
    },
    {
      "cell_type": "code",
      "execution_count": 8,
      "metadata": {
        "id": "MyudNNSLqRgq"
      },
      "outputs": [],
      "source": [
        "def loss(Y, T, loss_type):\n",
        "    N = Y.shape[1]  # Number of samples\n",
        "    \n",
        "    if loss_type == 'bce':\n",
        "        # Binary Cross-Entropy Loss\n",
        "        # Clip Y to avoid log(0) or log(1)\n",
        "        Y_clipped = numpy.clip(Y, 1e-10, 1 - 1e-10)\n",
        "        loss = -numpy.mean(T * numpy.log(Y_clipped) + (1 - T) * numpy.log(1 - Y_clipped))\n",
        "    \n",
        "    else:\n",
        "        # Categorical Cross-Entropy Loss\n",
        "        # Clip Y to avoid log(0)\n",
        "        Y_clipped = numpy.clip(Y, 1e-10, 1)\n",
        "        loss = -numpy.mean(numpy.sum(T * numpy.log(Y_clipped), axis=0))\n",
        "    \n",
        "    return loss"
      ]
    },
    {
      "cell_type": "markdown",
      "metadata": {
        "id": "fD2srCKN_Dr5"
      },
      "source": [
        "#### Task 2.7: Gradient Implementation\n",
        "\n",
        "Implement a function that computes and returns the gradient for a given batch $(\\mathbf X, \\mathbf T)$, the given network outputs $\\mathbf Y$ and $\\mathbf H$ as well as current parameters $\\Theta=(\\mathbf W^{(1)}, \\mathbf W^{(2)})$.\n",
        "Make sure to compute the gradient with respect to both weight matrices. Remember that we have used `tanh` as the activation function between two layers.\n",
        "Implement the function using the fast version provided in the lecture and make use of `numpy` operations."
      ]
    },
    {
      "cell_type": "code",
      "execution_count": 9,
      "metadata": {
        "id": "nNpZRBrUqU5Q"
      },
      "outputs": [],
      "source": [
        "def gradient(X, T, Y, H, Theta):\n",
        "    W1, W2 = Theta\n",
        "    N = X.shape[1]  # Number of samples\n",
        "    \n",
        "    # Compute error term for output layer\n",
        "    delta_out = Y - T  # Shape (O, N)\n",
        "    \n",
        "    # Derivative with respect to W2\n",
        "    g2 = (delta_out @ H.T) / N  # Shape (O, K+1)\n",
        "    \n",
        "    # Compute error term for hidden layer (ignoring bias)\n",
        "    delta_hidden = (W2[:, 1:].T @ delta_out) * (1 - H[1:, :]**2)  # Shape (K, N)\n",
        "    \n",
        "    # Derivative with respect to W1\n",
        "    g1 = (delta_hidden @ X.T) / N  # Shape (K, D+1)\n",
        "    \n",
        "    return g1, g2"
      ]
    },
    {
      "cell_type": "markdown",
      "metadata": {
        "id": "iQ5re_EW4iQD"
      },
      "source": [
        "#### Task 2.8: Accuracy Computation\n",
        "\n",
        "\n",
        "Implement a function that computes the accuracy of the provided network output and the given target values.\n",
        "Make sure that the implementation supports both binary as well as categorical targets."
      ]
    },
    {
      "cell_type": "code",
      "execution_count": 10,
      "metadata": {
        "id": "eDOQJPo3FLX4"
      },
      "outputs": [],
      "source": [
        "def accuracy(Y, T):\n",
        "    # Check if we have binary or categorical classification\n",
        "    if Y.shape[0] == 1:\n",
        "        # Binary classification\n",
        "        predictions = (Y > 0.5).astype(int)\n",
        "        correct = (predictions == T).sum()\n",
        "        total = T.size\n",
        "    else:\n",
        "        # Categorical classification\n",
        "        predictions = numpy.argmax(Y, axis=0)\n",
        "        true_labels = numpy.argmax(T, axis=0)\n",
        "        correct = (predictions == true_labels).sum()\n",
        "        total = true_labels.size\n",
        "    \n",
        "    return correct / total"
      ]
    },
    {
      "cell_type": "markdown",
      "metadata": {
        "id": "qXZnMJ6O4iQD"
      },
      "source": [
        "#### Test 2: Test Accuracy Function\n",
        "\n",
        "\n",
        "Design test data and according logit values with which you can test the correctness of your accuracy function.\n",
        "Make sure that the accuracy will compute the correct values.\n",
        "Test both binary and categorical accuracy."
      ]
    },
    {
      "cell_type": "code",
      "execution_count": 11,
      "metadata": {
        "id": "T6oj8z3a4iQD"
      },
      "outputs": [],
      "source": [
        "# first, test binary classification\n",
        "YY = numpy.ones((1,20)) * -5.\n",
        "YY[0][15:20] = 5\n",
        "assert(abs(accuracy(YY,numpy.zeros((1,20))) - 0.75) < 1e-8)\n",
        "assert(abs(accuracy(YY,numpy.ones((1,20))) - 0.25) < 1e-8)\n",
        "\n",
        "# now, test categorical classification with 4 classes\n",
        "YY = numpy.ones((4, 20)) * -5  # Shape (C, N) to match function expectations\n",
        "YY[0, 0:1] = 5\n",
        "YY[1, 1:4] = 5\n",
        "YY[2, 4:10] = 5\n",
        "YY[3, 10:20] = 5\n",
        "# Modify YY and T to be one-hot encoded\n",
        "T0 = numpy.eye(4)[numpy.zeros(20, dtype=int)].T\n",
        "T1 = numpy.eye(4)[numpy.ones(20, dtype=int)].T\n",
        "T2 = numpy.eye(4)[numpy.ones(20, dtype=int) * 2].T\n",
        "T3 = numpy.eye(4)[numpy.ones(20, dtype=int) * 3].T\n",
        "T4 = numpy.eye(4)[numpy.array([0, 1, 1, 1, 2, 2, 2, 2, 2, 2, 3, 3, 3, 3, 3, 3, 3, 3, 3, 3])].T\n",
        "\n",
        "# Assertions with modified inputs\n",
        "assert abs(accuracy(YY, T0) - 0.05) < 1e-8\n",
        "assert abs(accuracy(YY, T1) - 0.15) < 1e-8\n",
        "assert abs(accuracy(YY, T2) - 0.3) < 1e-8\n",
        "assert abs(accuracy(YY, T3) - 0.5) < 1e-8\n",
        "assert abs(accuracy(YY, T4) - 1.0) < 1e-8"
      ]
    },
    {
      "cell_type": "markdown",
      "metadata": {
        "id": "yBC2C6sy4iQD"
      },
      "source": [
        "#### Task 2.9: Training Loop\n",
        "\n",
        "\n",
        "Implement gradient descent for a given number of 10'000 epochs using given input data, initial parameters $\\Theta$, loss_type, number of epochs, as well as a learning rate of $\\eta=0.1$.\n",
        "\n",
        "Make use of the normalized dataset from Task 2.3, the network from Task 2.5, the loss from Task 2.6, the gradient from Task 2.7, and the accuracy function from Task 2.8.\n",
        "\n",
        "Make sure that you train on the training data only, and not on the validation data.\n",
        "In each loop, compute and store the training loss, training accuracy, validation loss and validation accuracy.\n",
        "At the end, return the lists of these values.\n"
      ]
    },
    {
      "cell_type": "code",
      "execution_count": 12,
      "metadata": {
        "id": "LOhA6w23qnaK"
      },
      "outputs": [],
      "source": [
        "def train(X_train, T_train, X_val, T_val, Theta, learning_rate=0.1, epochs=10000, loss_type='bce'):\n",
        "\n",
        "  W1, W2 = Theta\n",
        "\n",
        "  # collect loss and accuracy values\n",
        "  train_loss, train_acc, val_loss, val_acc = [], [], [], []\n",
        "\n",
        "  for epoch in range(epochs):\n",
        "    # train on training set\n",
        "    # ... compute network output on training data\n",
        "    Y_train, H_train = Network(X_train, Theta, loss_type)\n",
        "    # ... compute loss from network output and target data\n",
        "    current_train_loss = loss(Y_train, T_train, loss_type)\n",
        "    # ... compute gradient and perform weight update\n",
        "    g1, g2 = gradient(X_train, T_train, Y_train, H_train, Theta)\n",
        "    W1 = W1 - learning_rate * g1\n",
        "    W2 = W2 - learning_rate * g2\n",
        "    Theta = (W1, W2)\n",
        "    # ... remember loss\n",
        "    train_loss.append(current_train_loss)\n",
        "    # ... compute training set accuracy\n",
        "    train_acc.append(accuracy(Y_train, T_train))\n",
        "\n",
        "    # test on validation data\n",
        "\n",
        "    # ... compute network output on validation data\n",
        "    Y_val, H_val = Network(X_val, Theta, loss_type)\n",
        "    # ... compute loss from network output and target data\n",
        "    current_val_loss = loss(Y_val, T_val, loss_type)\n",
        "    # ... remember loss\n",
        "    val_loss.append(current_val_loss)\n",
        "    # ... compute validation set accuracy\n",
        "    val_acc.append(accuracy(Y_val, T_val))\n",
        "\n",
        "  # return the four lists of losses and accuracies\n",
        "  return train_loss, train_acc, val_loss, val_acc"
      ]
    },
    {
      "cell_type": "markdown",
      "metadata": {
        "id": "tU_LUDM14iQD"
      },
      "source": [
        "#### Task 2.10: Plotting Function\n",
        "\n",
        "\n",
        "Implement a function that takes four lists containing the training loss, the training accuracy, the validation loss and the validation accuracy.\n",
        "Plot the two losses into one plot, and the two accuracies into another plot."
      ]
    },
    {
      "cell_type": "code",
      "execution_count": 13,
      "metadata": {
        "id": "_fIVZsZvsryb"
      },
      "outputs": [],
      "source": [
        "from matplotlib import pyplot\n",
        "def plot(train_loss, train_acc, val_loss, val_acc):\n",
        "  pyplot.figure(figsize=(10,3))\n",
        "  ax = pyplot.subplot(121)\n",
        "  ax.plot(train_loss, \"g-\", label=\"Training set loss\")\n",
        "  ax.plot(val_loss, \"b-\", label=\"Validation set loss\")\n",
        "  ax.set_xlabel(\"Epoch\")\n",
        "  ax.legend()\n",
        "\n",
        "  ax = pyplot.subplot(122)\n",
        "  ax.plot(train_acc, \"g-\", label=\"Training set accuracy\")\n",
        "  ax.plot(val_acc, \"b-\", label=\"Validation set accuracy\")\n",
        "  ax.set_xlabel(\"Epoch\")\n",
        "  ax.legend()"
      ]
    },
    {
      "cell_type": "markdown",
      "metadata": {
        "id": "I0A03pI84iQE"
      },
      "source": [
        "#### Task 2.11: Binary Classification\n",
        "\n",
        "\n",
        "1. Load the data for binary classification, using the ``\"churn_data.csv\"`` file.\n",
        "2. Split the data into training and validation sets.\n",
        "3. Normalize both training and validation input data using the function from Task 2.3.\n",
        "4. Instantiate the weight matrices $\\Theta=(\\mathbf W^{(1)}, \\mathbf W^{(2)})$ using the Xavier method as introduced in the lecture\n",
        "5. Train the network on the churn data with the learning rate of **$\\eta=0.1$** for 10'000 epochs and plot the training and validation accuracies and losses.\n",
        "\n"
      ]
    },
    {
      "cell_type": "code",
      "execution_count": 14,
      "metadata": {
        "id": "6dQdkFKStw2g"
      },
      "outputs": [
        {
          "name": "stdout",
          "output_type": "stream",
          "text": [
            "Loaded dataset with 3150 samples\n"
          ]
        },
        {
          "data": {
            "image/png": "[encoded data removed]",
            "text/plain": [
              "<Figure size 1000x300 with 2 Axes>"
            ]
          },
          "metadata": {},
          "output_type": "display_data"
        }
      ],
      "source": [
        "\n",
        "# load dataset\n",
        "X, T = dataset(\"churn_data.csv\", \",\")\n",
        "# split dataset\n",
        "X_train, T_train, X_val, T_val = split_training_data(X, T)\n",
        "# normalize input data\n",
        "X_train, X_val = normalize(X_train, X_val)\n",
        "\n",
        "K = 10\n",
        "D = X_train.shape[0] - 1\n",
        "O = T_train.shape[0]\n",
        "W1 = numpy.random.randn(K, D + 1) * numpy.sqrt(1 / (D + 1))\n",
        "W2 = numpy.random.randn(O, K + 1) * numpy.sqrt(1 / (K + 1))\n",
        "Theta = [W1, W2]\n",
        "\n",
        "# train network on our data\n",
        "results = train(X_train, T_train, X_val, T_val, Theta, learning_rate=0.1, epochs=10000, loss_type='bce')\n",
        "\n",
        "# plot the results\n",
        "plot(results[0], results[1], results[2], results[3])"
      ]
    },
    {
      "cell_type": "markdown",
      "metadata": {
        "id": "UtB7EEI14iQE"
      },
      "source": [
        "#### Task 2.12: Categorical Classification\n",
        "\n",
        "\n",
        "1. Load the data for categorical classification, using the ``\"winequality-red.csv\"`` file.\n",
        "2. Split the data into training and validation sets.\n",
        "3. Normalize both training and validation input data using the function from Task 2.3.\n",
        "4. **How many input and output neurons do we need?** Change the number of input, hidden, and output neurons accordingly. Select an appropriate number of hidden neurons $K$.\n",
        "5. Instantiate the weight matrices $\\Theta=(\\mathbf W^{(1)}, \\mathbf W^{(2)})$ using the Xavier method as introduced in the lecture\n",
        "6. Train the network on the winequality-red dataset with the learning rate of **$\\eta=0.1$** for 10'000 epochs and plot the training and validation accuracies and losses.\n",
        "\n"
      ]
    },
    {
      "cell_type": "code",
      "execution_count": 15,
      "metadata": {
        "id": "oBADNP7Muif5"
      },
      "outputs": [
        {
          "name": "stdout",
          "output_type": "stream",
          "text": [
            "Loaded dataset with 1599 samples\n"
          ]
        },
        {
          "data": {
            "image/png": "[encoded data removed]",
            "text/plain": [
              "<Figure size 1000x300 with 2 Axes>"
            ]
          },
          "metadata": {},
          "output_type": "display_data"
        }
      ],
      "source": [
        "\n",
        "# load dataset\n",
        "X, T = dataset(\"winequality-red.csv\", \";\")\n",
        "# split dataset\n",
        "X_train, T_train, X_val, T_val = split_training_data(X, T)\n",
        "# normalize input data\n",
        "X_train, X_val = normalize(X_train, X_val)\n",
        "\n",
        "K = 10\n",
        "D = X_train.shape[0] - 1\n",
        "O = T_train.shape[0]\n",
        "W1 = numpy.random.randn(K, D + 1) * numpy.sqrt(1 / (D + 1))\n",
        "W2 = numpy.random.randn(O, K + 1) * numpy.sqrt(1 / (K + 1))\n",
        "Theta = [W1, W2]\n",
        "\n",
        "# train network on our data\n",
        "results = train(X_train, T_train, X_val, T_val, Theta, learning_rate=0.1, epochs=10000, loss_type='cce')\n",
        "\n",
        "# plot the results\n",
        "plot(results[0], results[1], results[2], results[3])"
      ]
    }
  ],
  "metadata": {
    "colab": {
      "provenance": []
    },
    "kernelspec": {
      "display_name": "mp",
      "language": "python",
      "name": "python3"
    },
    "language_info": {
      "codemirror_mode": {
        "name": "ipython",
        "version": 3
      },
      "file_extension": ".py",
      "mimetype": "text/x-python",
      "name": "python",
      "nbconvert_exporter": "python",
      "pygments_lexer": "ipython3",
      "version": "3.11.11"
    }
  },
  "nbformat": 4,
  "nbformat_minor": 0
}
